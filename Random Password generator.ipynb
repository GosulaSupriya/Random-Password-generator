{
 "cells": [
  {
   "cell_type": "code",
   "execution_count": 1,
   "id": "8c6ea6f0",
   "metadata": {},
   "outputs": [],
   "source": [
    "#PythonGeeks program to generate a random password\n",
    "#Import the necessary modules\n",
    "import random\n",
    "from tkinter import messagebox\n",
    "from tkinter import *"
   ]
  },
  {
   "cell_type": "code",
   "execution_count": 2,
   "id": "817dd01f",
   "metadata": {},
   "outputs": [],
   "source": [
    "#Password generator function\n",
    "def generate_password():\n",
    " try:\n",
    "   repeat = int(repeat_entry.get())\n",
    "   length = int(length_entry.get())\n",
    " except:\n",
    "   messagebox.showerror(message=\"Please key in the required inputs\")\n",
    "   return\n",
    " if repeat == 1:\n",
    "   password = random.sample(character_string,length)\n",
    " else:\n",
    "   password = random.choices(character_string,k=length)\n",
    " password=''.join(password)\n",
    " password_v = StringVar()\n",
    " password=\"Created password: \"+str(password)\n",
    " password_v.set(password)\n",
    " password_label = Entry(password_gen, bd=0, bg=\"gray85\", textvariable= password_v, state=\"readonly\")\n",
    " password_label.place(x=10, y=140, height=50, width=320)"
   ]
  },
  {
   "cell_type": "code",
   "execution_count": 3,
   "id": "c18fd58b",
   "metadata": {},
   "outputs": [],
   "source": [
    "#Define a string containing letters, symbols and numbers\n",
    "character_string=\"ABCDEFGHIJKLMNOPQRSTUVWXYZabcdefghijklmnopqrstuvwxyz0123456789!#$%&'()*+,-./:;<=>?@[\\]^_`{|}~\""
   ]
  },
  {
   "cell_type": "code",
   "execution_count": 4,
   "id": "426cef99",
   "metadata": {},
   "outputs": [
    {
     "data": {
      "text/plain": [
       "''"
      ]
     },
     "execution_count": 4,
     "metadata": {},
     "output_type": "execute_result"
    }
   ],
   "source": [
    "#Define the user interface\n",
    "password_gen  = Tk()\n",
    "password_gen.geometry(\"350x200\")\n",
    "password_gen.title(\"PythonGeeks Password Generator\")"
   ]
  },
  {
   "cell_type": "code",
   "execution_count": 5,
   "id": "7e9b4a94",
   "metadata": {},
   "outputs": [],
   "source": [
    "#Mention the title of the app\n",
    "title_label = Label(password_gen, text=\"PythonGeeks Password Generator\", font=('Ubuntu Mono',12))\n",
    "title_label.pack()\n",
    "#Read length\n",
    "length_label = Label(password_gen, text=\"Enter length of password: \")\n",
    "length_label.place(x=20,y=30)\n",
    "length_entry = Entry(password_gen, width=3)\n",
    "length_entry.place(x=190,y=30)\n",
    "#Read repetition\n",
    "repeat_label = Label(password_gen, text=\"Repetition? 1: no repetition, 2: otherwise: \")\n",
    "repeat_label.place(x=20,y=60)\n",
    "repeat_entry = Entry(password_gen, width=3)\n",
    "repeat_entry.place(x=300,y=60)"
   ]
  },
  {
   "cell_type": "code",
   "execution_count": 6,
   "id": "bed24b59",
   "metadata": {},
   "outputs": [],
   "source": [
    "#Generate password\n",
    "password_button = Button(password_gen, text=\"Generate Password\", command=generate_password)\n",
    "password_button.place(x=100,y=100)\n",
    "#Exit and close the app\n",
    "password_gen.mainloop()"
   ]
  },
  {
   "cell_type": "code",
   "execution_count": null,
   "id": "96ae8c01",
   "metadata": {},
   "outputs": [],
   "source": []
  }
 ],
 "metadata": {
  "kernelspec": {
   "display_name": "Python 3 (ipykernel)",
   "language": "python",
   "name": "python3"
  },
  "language_info": {
   "codemirror_mode": {
    "name": "ipython",
    "version": 3
   },
   "file_extension": ".py",
   "mimetype": "text/x-python",
   "name": "python",
   "nbconvert_exporter": "python",
   "pygments_lexer": "ipython3",
   "version": "3.9.12"
  }
 },
 "nbformat": 4,
 "nbformat_minor": 5
}
